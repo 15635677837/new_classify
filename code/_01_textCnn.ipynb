{
 "cells": [
  {
   "cell_type": "markdown",
   "metadata": {},
   "source": [
    "## 0.导入库"
   ]
  },
  {
   "cell_type": "markdown",
   "metadata": {},
   "source": [
    "### 0.1 常用的库"
   ]
  },
  {
   "cell_type": "code",
   "execution_count": 1,
   "metadata": {},
   "outputs": [],
   "source": [
    "import os\n",
    "import numpy as np\n",
    "import time"
   ]
  },
  {
   "cell_type": "markdown",
   "metadata": {},
   "source": [
    "### 0.2 需要使用的库"
   ]
  },
  {
   "cell_type": "code",
   "execution_count": 2,
   "metadata": {},
   "outputs": [],
   "source": [
    "import pandas as pd\n",
    "import pickle\n",
    "import re"
   ]
  },
  {
   "cell_type": "markdown",
   "metadata": {},
   "source": [
    "### 0.3 基本方法"
   ]
  },
  {
   "cell_type": "code",
   "execution_count": 3,
   "metadata": {},
   "outputs": [],
   "source": [
    "import sys\n",
    "# 实时更新进度条\n",
    "def print_flush(print_string):\n",
    "    print(print_string, end='\\r')\n",
    "    sys.stdout.flush()\n",
    "\n",
    "# 导入深度学习库tensorflow    \n",
    "import tensorflow as tf    \n",
    "#  获取显存动态增长的会话 \n",
    "def get_session():\n",
    "    config = tf.ConfigProto()\n",
    "    config.gpu_options.allow_growth = True\n",
    "    session = tf.Session(config=config)\n",
    "    return session"
   ]
  },
  {
   "cell_type": "markdown",
   "metadata": {},
   "source": [
    "## 1. 文件内容的列表"
   ]
  },
  {
   "cell_type": "markdown",
   "metadata": {},
   "source": [
    "### 1.1 文本文件路径的列表"
   ]
  },
  {
   "cell_type": "code",
   "execution_count": 24,
   "metadata": {},
   "outputs": [
    {
     "name": "stdout",
     "output_type": "stream",
     "text": [
      "文本文件路径的列表长度: 836075\n"
     ]
    }
   ],
   "source": [
    "def get_txtFilePath_list(root_dirPath):\n",
    "    txtFilePath_list = []\n",
    "    sub_dirName_list = next(os.walk(root_dirPath))[1]\n",
    "    for sub_dirName in sub_dirName_list:\n",
    "        sub_dirPath = os.path.join(root_dirPath, sub_dirName)\n",
    "        fileName_list = next(os.walk(sub_dirPath))[2]\n",
    "        filePath_list = [os.path.join(sub_dirPath, k) for k in fileName_list]\n",
    "        txtFilePath_list.extend(filePath_list)\n",
    "    return txtFilePath_list\n",
    "\n",
    "\n",
    "root_dirPath = '../resources/THUCNews/'\n",
    "txtFilePath_list = get_txtFilePath_list(root_dirPath)\n",
    "print('文本文件路径的列表长度:', len(txtFilePath_list))"
   ]
  },
  {
   "cell_type": "code",
   "execution_count": null,
   "metadata": {},
   "outputs": [],
   "source": []
  },
  {
   "cell_type": "markdown",
   "metadata": {},
   "source": [
    "### 1.2 读取所有文本文件"
   ]
  },
  {
   "cell_type": "code",
   "execution_count": 5,
   "metadata": {},
   "outputs": [
    {
     "name": "stdout",
     "output_type": "stream",
     "text": [
      "836075/ 836075 >>>>>>>>>>>>>>>>>>>>>>>>>>>>>>>>>>>>>>>>>>>>>>>>>> 进度百分比:100.00% 读取速度:1430.98文件/秒 总共花费时间:584.27秒\r"
     ]
    }
   ],
   "source": [
    "def get_fileContent(txtFilePath):\n",
    "    with open(txtFilePath, 'r', encoding='utf8') as file:\n",
    "        fileContent = file.read()\n",
    "    return fileContent\n",
    "\n",
    "\n",
    "sequence_length = 600\n",
    "sample_quantity = len(txtFilePath_list)\n",
    "startTime = time.time()\n",
    "content_list = []\n",
    "for i in range(sample_quantity):\n",
    "    txtFilePath = txtFilePath_list[i]\n",
    "    fileContent = get_fileContent(txtFilePath)\n",
    "    fileContent_1 = re.sub('\\s+', ' ', fileContent)\n",
    "    fileContent_2 = fileContent_1[:sequence_length]\n",
    "    content_list.append(fileContent_2)\n",
    "    # 打印提示信息，动态刷新进度条\n",
    "    index = i + 1\n",
    "    if index % 100 == 0 or index==sample_quantity:\n",
    "        percent = index / sample_quantity * 100\n",
    "        percent_int = int(percent)\n",
    "        half_percent_int = int(percent_int / 2)\n",
    "        string_0 = '%d/ %d ' %(index, sample_quantity)\n",
    "        string_1 = '>' * half_percent_int + ' ' * (50-half_percent_int)\n",
    "        string_2 = ' 进度百分比:%.2f%%' %percent\n",
    "        usedTime = time.time() - startTime\n",
    "        string_3 = ' 读取速度:%.2f文件/秒' %(index/usedTime)\n",
    "        string_4 = ' 总共花费时间:%.2f秒' %(usedTime)\n",
    "        print_string = string_0 + string_1 + string_2 + string_3 + string_4\n",
    "        print_flush(print_string)"
   ]
  },
  {
   "cell_type": "markdown",
   "metadata": {},
   "source": [
    "### 1.3 把文件内容列表保存为pickle文件"
   ]
  },
  {
   "cell_type": "code",
   "execution_count": 6,
   "metadata": {},
   "outputs": [],
   "source": [
    "pickleFilePath = '../resources/content_list.pickle'\n",
    "with open(pickleFilePath, 'wb') as file:\n",
    "    pickle.dump(content_list, file)"
   ]
  },
  {
   "cell_type": "markdown",
   "metadata": {},
   "source": [
    "### 1.4 从pickle文件加载文件内容列表"
   ]
  },
  {
   "cell_type": "code",
   "execution_count": 7,
   "metadata": {},
   "outputs": [],
   "source": [
    "pickleFilePath = '../resources/content_list.pickle'\n",
    "with open(pickleFilePath, 'rb') as file:\n",
    "    content_list = pickle.load(file)"
   ]
  },
  {
   "cell_type": "markdown",
   "metadata": {},
   "source": [
    "## 2. 样本标签的列表"
   ]
  },
  {
   "cell_type": "markdown",
   "metadata": {},
   "source": [
    "### 2.1 获取样本标签的列表"
   ]
  },
  {
   "cell_type": "code",
   "execution_count": 8,
   "metadata": {},
   "outputs": [
    {
     "name": "stdout",
     "output_type": "stream",
     "text": [
      "样本标签的列表长度: 836075\n"
     ]
    },
    {
     "data": {
      "text/plain": [
       "科技    162929\n",
       "股票    154398\n",
       "体育    131604\n",
       "娱乐     92632\n",
       "时政     63086\n",
       "社会     50849\n",
       "教育     41936\n",
       "财经     37098\n",
       "家居     32586\n",
       "游戏     24373\n",
       "房产     20050\n",
       "时尚     13368\n",
       "彩票      7588\n",
       "星座      3578\n",
       "dtype: int64"
      ]
     },
     "execution_count": 8,
     "metadata": {},
     "output_type": "execute_result"
    }
   ],
   "source": [
    "def get_label_list(root_dirPath):\n",
    "    label_list = []\n",
    "    sub_dirName_list = next(os.walk(root_dirPath))[1]\n",
    "    for sub_dirName in sub_dirName_list:\n",
    "        sub_dirPath = os.path.join(root_dirPath, sub_dirName)\n",
    "        fileName_list = next(os.walk(sub_dirPath))[2]\n",
    "        part_label_list = [sub_dirName] * len(fileName_list)\n",
    "        label_list.extend(part_label_list)\n",
    "    return label_list\n",
    "\n",
    "\n",
    "root_dirPath = '../resources/THUCNews/'\n",
    "label_list = get_label_list(root_dirPath)\n",
    "print('样本标签的列表长度:', len(label_list)) \n",
    "pd.value_counts(label_list)"
   ]
  },
  {
   "cell_type": "markdown",
   "metadata": {},
   "source": [
    "## 3. 字列表"
   ]
  },
  {
   "cell_type": "markdown",
   "metadata": {},
   "source": [
    "### 3.1 根据文件内容列表，统计计数获得出现次数排名前6999的字\n",
    "#### 排名7000以后的字统一用'PAD'表示"
   ]
  },
  {
   "cell_type": "code",
   "execution_count": 9,
   "metadata": {},
   "outputs": [
    {
     "name": "stdout",
     "output_type": "stream",
     "text": [
      "836075/ 836075 进度百分比: 100.00% 花费时间: 77.56秒\r"
     ]
    }
   ],
   "source": [
    "from collections import Counter\n",
    "\n",
    "def get_word_list(content_list, size):\n",
    "    startTime = time.time()\n",
    "    counter = Counter()\n",
    "    sample_quantity = len(content_list)\n",
    "    for i, content in enumerate(content_list, 1):\n",
    "        counter.update(content)\n",
    "        if i%1000==0 or i==sample_quantity:\n",
    "            string_0 = '%d/ %d' %(i, sample_quantity)\n",
    "            string_1 = ' 进度百分比: %.2f%%' %(i/sample_quantity*100)\n",
    "            usedTime = time.time() - startTime\n",
    "            string_2 = ' 花费时间: %.2f秒' %usedTime\n",
    "            print_string = string_0 + string_1 + string_2\n",
    "            print_flush(print_string)\n",
    "    word_list_1 = [k[0] for k in counter.most_common(size-1)]\n",
    "    word_list = ['PAD'] + word_list_1\n",
    "    return word_list\n",
    "\n",
    "\n",
    "vocabulary_size = 7000\n",
    "word_list = get_word_list(content_list, vocabulary_size)"
   ]
  },
  {
   "cell_type": "markdown",
   "metadata": {},
   "source": [
    "### 3.2 把字列表保存为pickle文件"
   ]
  },
  {
   "cell_type": "code",
   "execution_count": 10,
   "metadata": {},
   "outputs": [],
   "source": [
    "pickleFilePath = '../resources/word_list.pickle'\n",
    "with open(pickleFilePath, 'wb') as file:\n",
    "    pickle.dump(word_list, file)"
   ]
  },
  {
   "cell_type": "markdown",
   "metadata": {},
   "source": [
    "### 3.3 从pickle文件加载字列表"
   ]
  },
  {
   "cell_type": "code",
   "execution_count": 11,
   "metadata": {},
   "outputs": [],
   "source": [
    "pickleFilePath = '../resources/word_list.pickle'\n",
    "with open(pickleFilePath, 'rb') as file:\n",
    "    word_list = pickle.load(file)"
   ]
  },
  {
   "cell_type": "markdown",
   "metadata": {},
   "source": [
    "## 4.数据准备"
   ]
  },
  {
   "cell_type": "markdown",
   "metadata": {},
   "source": [
    "### 4.1 get_X"
   ]
  },
  {
   "cell_type": "code",
   "execution_count": 12,
   "metadata": {},
   "outputs": [
    {
     "name": "stderr",
     "output_type": "stream",
     "text": [
      "Using TensorFlow backend.\n"
     ]
    }
   ],
   "source": [
    "import keras\n",
    "\n",
    "# sequence_length中文叫做序列长度，根据自己经验设置\n",
    "# sequence_length设置为600，即根据文章的前600字则可判断文章类型\n",
    "sequence_length = 600\n",
    "word2index_dict = dict([(word, index) for index, word in enumerate(word_list)])\n",
    "\n",
    "\n",
    "def get_index_list(content):\n",
    "    index_list = []\n",
    "    for word in content[:sequence_length]:\n",
    "        if word in word2index_dict:\n",
    "            index = word2index_dict[word]\n",
    "            index_list.append(index)\n",
    "        else:\n",
    "            index_list.append(0)\n",
    "    return index_list       \n",
    "\n",
    "def get_X(part_content_list):\n",
    "    indexList_list = [get_index_list(k) for k in part_content_list]\n",
    "    X = keras.preprocessing.sequence.pad_sequences(indexList_list, sequence_length)        \n",
    "    return X"
   ]
  },
  {
   "cell_type": "markdown",
   "metadata": {},
   "source": [
    "### 4.2 get_Y"
   ]
  },
  {
   "cell_type": "code",
   "execution_count": 13,
   "metadata": {},
   "outputs": [],
   "source": [
    "from sklearn.preprocessing import LabelEncoder\n",
    "\n",
    "labelEncoder = LabelEncoder()\n",
    "labelEncoder.fit(label_list)\n",
    "category_quantity = labelEncoder.classes_.shape[0]\n",
    "\n",
    "def get_Y(part_label_list):\n",
    "    oneHot_2d_array = labelEncoder.transform(part_label_list)\n",
    "    Y = keras.utils.to_categorical(oneHot_2d_array, category_quantity)\n",
    "    return Y"
   ]
  },
  {
   "cell_type": "markdown",
   "metadata": {},
   "source": [
    "### 4.3 使用带权重的抽样策略，计算每个样本的权重"
   ]
  },
  {
   "cell_type": "code",
   "execution_count": 14,
   "metadata": {},
   "outputs": [],
   "source": [
    "def get_probability_list(label_list):\n",
    "    count_series = pd.value_counts(label_list)\n",
    "    category_quantity = len(count_series)\n",
    "    category_weights = 1 / category_quantity\n",
    "    label2weights_dict = dict([(a, b) for a, b in zip(count_series.index, category_weights/count_series)])\n",
    "    probability_list = [label2weights_dict[k] for k in label_list]\n",
    "    return probability_list"
   ]
  },
  {
   "cell_type": "markdown",
   "metadata": {},
   "source": [
    "### 4.4 批量数据生产者线程"
   ]
  },
  {
   "cell_type": "code",
   "execution_count": 15,
   "metadata": {},
   "outputs": [],
   "source": [
    "import threading\n",
    "from sklearn.model_selection import train_test_split\n",
    "\n",
    "sample_quantity = len(label_list)\n",
    "index_1d_array = np.arange(sample_quantity)\n",
    "train_index_1d_array, test_index_1d_array = train_test_split(index_1d_array, random_state=2019)\n",
    "train_label_list = [label_list[k] for k in train_index_1d_array]\n",
    "train_probability_list = get_probability_list(train_label_list)\n",
    "batch_size = 128\n",
    "\n",
    "\n",
    "class BatchDataThread(threading.Thread):\n",
    "    def __init__(self, queue):\n",
    "        super(BatchDataThread, self).__init__()\n",
    "        self.queue = queue\n",
    "        self.start()\n",
    "    \n",
    "    def run(self):\n",
    "        while not self._is_stopped:\n",
    "            if self.queue.qsize() < 3:\n",
    "                selected_indexes = np.random.choice(\n",
    "                    train_index_1d_array, size=batch_size, p=train_probability_list)\n",
    "                part_content_list = [content_list[k] for k in selected_indexes]\n",
    "                part_label_list = [label_list[k] for k in selected_indexes]\n",
    "                batch_X = get_X(part_content_list)\n",
    "                batch_Y = get_Y(part_label_list)\n",
    "                put_tuple = batch_X.astype('int32'), batch_Y.astype('float32')\n",
    "                self.queue.put(put_tuple)\n",
    "            time.sleep(0.0001)            "
   ]
  },
  {
   "cell_type": "markdown",
   "metadata": {},
   "source": [
    "### 4.5 批量数据生成器类"
   ]
  },
  {
   "cell_type": "code",
   "execution_count": 16,
   "metadata": {},
   "outputs": [],
   "source": [
    "import queue\n",
    "\n",
    "class BatchDataGenerator(object):\n",
    "    def __init__(self, worker_quantity=3):\n",
    "        self.queue = queue.Queue()\n",
    "        for i in range(worker_quantity):\n",
    "            BatchDataThread(self.queue)\n",
    "            \n",
    "    def __iter__(self):\n",
    "        return self\n",
    "    \n",
    "    def __next__(self):\n",
    "        batch_data = self.queue.get()\n",
    "        return batch_data\n",
    "    \n",
    "    \n",
    "batchData_generator = BatchDataGenerator()    "
   ]
  },
  {
   "cell_type": "markdown",
   "metadata": {},
   "source": [
    "## 5.搭建神经网络"
   ]
  },
  {
   "cell_type": "code",
   "execution_count": 17,
   "metadata": {},
   "outputs": [
    {
     "name": "stdout",
     "output_type": "stream",
     "text": [
      "WARNING:tensorflow:From F:\\Anaconda\\lib\\site-packages\\tensorflow\\python\\framework\\op_def_library.py:263: colocate_with (from tensorflow.python.framework.ops) is deprecated and will be removed in a future version.\n",
      "Instructions for updating:\n",
      "Colocations handled automatically by placer.\n",
      "WARNING:tensorflow:From <ipython-input-17-ad4741e257ae>:12: conv1d (from tensorflow.python.layers.convolutional) is deprecated and will be removed in a future version.\n",
      "Instructions for updating:\n",
      "Use keras.layers.conv1d instead.\n",
      "WARNING:tensorflow:From <ipython-input-17-ad4741e257ae>:17: dense (from tensorflow.python.layers.core) is deprecated and will be removed in a future version.\n",
      "Instructions for updating:\n",
      "Use keras.layers.dense instead.\n",
      "WARNING:tensorflow:From F:\\Anaconda\\lib\\site-packages\\tensorflow\\python\\ops\\math_ops.py:3066: to_int32 (from tensorflow.python.ops.math_ops) is deprecated and will be removed in a future version.\n",
      "Instructions for updating:\n",
      "Use tf.cast instead.\n",
      "WARNING:tensorflow:From F:\\Anaconda\\lib\\site-packages\\tensorflow\\python\\ops\\math_grad.py:102: div (from tensorflow.python.ops.math_ops) is deprecated and will be removed in a future version.\n",
      "Instructions for updating:\n",
      "Deprecated in favor of operator or tf.math.divide.\n"
     ]
    }
   ],
   "source": [
    "tf.reset_default_graph()\n",
    "X_holder = tf.placeholder(tf.int32, [None, sequence_length])\n",
    "Y_holder = tf.placeholder(tf.float32, [None, category_quantity])\n",
    "data_0 = X_holder\n",
    "vocabulary_size = 7000\n",
    "embedding_size = 300\n",
    "layer_1 = tf.get_variable('embedding', [vocabulary_size, embedding_size])\n",
    "data_1 = tf.nn.embedding_lookup(layer_1, data_0)\n",
    "filter_quantiy = 256\n",
    "filter_size = 3\n",
    "layer_2 = tf.layers.conv1d\n",
    "data_2 = layer_2(data_1, filter_quantiy, filter_size, padding='SAME')\n",
    "layer_3 = tf.reduce_max\n",
    "data_3 = layer_3(data_2, [1])\n",
    "layer_4 = tf.layers.dense\n",
    "fc1_units = 128\n",
    "data_4 = layer_4(data_3, fc1_units)\n",
    "layer_5 = tf.nn.relu\n",
    "data_5 = layer_5(data_4)\n",
    "layer_6 = tf.layers.dense\n",
    "data_6 = layer_6(data_5, category_quantity)\n",
    "layer_7 = tf.nn.softmax\n",
    "data_7 = layer_7(data_6)\n",
    "layer_8 = tf.nn.softmax_cross_entropy_with_logits_v2\n",
    "data_8 = layer_8(labels=Y_holder, logits=data_6)\n",
    "loss = tf.reduce_mean(data_8)\n",
    "learning_rate = 5e-4\n",
    "optimizer = tf.train.AdamOptimizer(learning_rate)\n",
    "train = optimizer.minimize(loss)\n",
    "isCorrect = tf.equal(tf.argmax(Y_holder, 1), tf.argmax(data_7, 1))\n",
    "accuracy = tf.reduce_mean(tf.cast(isCorrect, tf.float32))"
   ]
  },
  {
   "cell_type": "markdown",
   "metadata": {},
   "source": [
    "## 6.参数初始化"
   ]
  },
  {
   "cell_type": "code",
   "execution_count": 18,
   "metadata": {},
   "outputs": [],
   "source": [
    "init = tf.global_variables_initializer()\n",
    "session = get_session()\n",
    "session.run(init)"
   ]
  },
  {
   "cell_type": "markdown",
   "metadata": {},
   "source": [
    "## 7.模型训练"
   ]
  },
  {
   "cell_type": "code",
   "execution_count": 19,
   "metadata": {},
   "outputs": [
    {
     "name": "stdout",
     "output_type": "stream",
     "text": [
      "step:10000 loss:0.1018 accuracy:0.9531\r"
     ]
    }
   ],
   "source": [
    "train_steps = 10000\n",
    "for step in range(1, train_steps+1):\n",
    "    batch_X, batch_Y = next(batchData_generator)\n",
    "    session.run(train, {X_holder:batch_X, Y_holder:batch_Y})\n",
    "    if step % 2 == 0 :\n",
    "        loss_value, accuracy_value = session.run([loss, accuracy], {X_holder:batch_X, Y_holder:batch_Y})\n",
    "        print_string = 'step:%d loss:%.4f accuracy:%.4f' %(step, loss_value, accuracy_value)\n",
    "        print_flush(print_string)"
   ]
  },
  {
   "cell_type": "markdown",
   "metadata": {},
   "source": [
    "## 8.模型测试"
   ]
  },
  {
   "cell_type": "code",
   "execution_count": 20,
   "metadata": {},
   "outputs": [
    {
     "name": "stdout",
     "output_type": "stream",
     "text": [
      "选出文本内容为:  韩国通过灰姑娘法 凌晨后青少年网游将强制断网 首尔市某精神病院院长金铉秀在接受韩国媒体采访时表示：“少年儿童游戏中毒的后果非常严重，其发展顺序一般为：丧失学习兴趣→价值观与父母冲突→沉迷游戏→同父母矛盾激化→(中学·高中时期)向父母施暴、离家出走、盗窃等，这样的事例非常之多。可以说，90%以上的青少年问题都与不良网络游戏有关。” 本报驻首尔记者王刚 近日，旨在限制青少年深夜进行网络游戏的《青少年保护法》修正案在韩国国会会议高票获得通过，并有望最早在今年11月份开始正式施行，此举一出，不但在韩国国内引发大规模讨论，而且也引来各国媒体的围观和热议。那么，韩国政府此番为何会“痛下杀手”？在发展网游产业与保护青少年之间，韩政府又是如何艰难却坚定地寻找平衡点的？ 国会通过“灰姑娘法” 禁止青少年深夜网游 4月29日下午，韩国国会对限制青少年深夜上网打游戏的《青少年保护法》(修正案因在子夜12点后将对未成年人网游强制断网，故俗称“灰姑娘法”)进行审议。摆在各位议员面前的有两个提议案：一个是禁止未满16岁的青少年在午夜12点至凌晨6点在线游戏；另一个是大国家党国会议员辛智浩提出的将年龄提高到19岁。最后经过激烈辩论，最终韩国国会法制委员会通过了16周岁这个修正案。参与投票的210名议员中，赞成117票，反对63票，弃权30票。而辛智浩提出的修正案则遭到否决。 按照规定，修正案将在通过后6个月(即\n",
      "真实标签:  科技\n",
      "预测标签:  时政 \n",
      "\n",
      "对于任意文本做分类预测，例如:\n",
      "predict(\"足球篮球\") : 家居\n"
     ]
    }
   ],
   "source": [
    "import warnings\n",
    "warnings.filterwarnings(\"ignore\")\n",
    "def predict(input_content):\n",
    "    part_content_list = [input_content]\n",
    "    X = get_X(part_content_list)\n",
    "    Y = session.run(data_7, {X_holder:X})\n",
    "    y = np.argmax(Y, axis=1)\n",
    "    label = labelEncoder.inverse_transform(y)[0]\n",
    "    return label\n",
    "\n",
    "selected_index = np.random.choice(test_index_1d_array, 1)[0]\n",
    "selected_content = content_list[selected_index]\n",
    "true_label = label_list[selected_index]\n",
    "predict_label = predict(selected_content)\n",
    "print('选出文本内容为: ', selected_content)\n",
    "print('真实标签: ', true_label)\n",
    "print('预测标签: ', predict_label, '\\n')\n",
    "print('对于任意文本做分类预测，例如:')\n",
    "input_content = \"足球篮球\"\n",
    "print('predict(\"%s\") :' %input_content, predict(input_content))"
   ]
  },
  {
   "cell_type": "markdown",
   "metadata": {},
   "source": [
    "## 9.混淆矩阵"
   ]
  },
  {
   "cell_type": "code",
   "execution_count": 21,
   "metadata": {},
   "outputs": [
    {
     "name": "stdout",
     "output_type": "stream",
     "text": [
      "209019/ 209019 花费时间:1012.82秒\r"
     ]
    },
    {
     "data": {
      "text/html": [
       "<div>\n",
       "<style scoped>\n",
       "    .dataframe tbody tr th:only-of-type {\n",
       "        vertical-align: middle;\n",
       "    }\n",
       "\n",
       "    .dataframe tbody tr th {\n",
       "        vertical-align: top;\n",
       "    }\n",
       "\n",
       "    .dataframe thead th {\n",
       "        text-align: right;\n",
       "    }\n",
       "</style>\n",
       "<table border=\"1\" class=\"dataframe\">\n",
       "  <thead>\n",
       "    <tr style=\"text-align: right;\">\n",
       "      <th></th>\n",
       "      <th>体育</th>\n",
       "      <th>娱乐</th>\n",
       "      <th>家居</th>\n",
       "      <th>彩票</th>\n",
       "      <th>房产</th>\n",
       "      <th>教育</th>\n",
       "      <th>时尚</th>\n",
       "      <th>时政</th>\n",
       "      <th>星座</th>\n",
       "      <th>游戏</th>\n",
       "      <th>社会</th>\n",
       "      <th>科技</th>\n",
       "      <th>股票</th>\n",
       "      <th>财经</th>\n",
       "    </tr>\n",
       "  </thead>\n",
       "  <tbody>\n",
       "    <tr>\n",
       "      <th>体育</th>\n",
       "      <td>32100</td>\n",
       "      <td>313</td>\n",
       "      <td>32</td>\n",
       "      <td>135</td>\n",
       "      <td>2</td>\n",
       "      <td>39</td>\n",
       "      <td>12</td>\n",
       "      <td>162</td>\n",
       "      <td>0</td>\n",
       "      <td>50</td>\n",
       "      <td>76</td>\n",
       "      <td>52</td>\n",
       "      <td>9</td>\n",
       "      <td>6</td>\n",
       "    </tr>\n",
       "    <tr>\n",
       "      <th>娱乐</th>\n",
       "      <td>34</td>\n",
       "      <td>22529</td>\n",
       "      <td>57</td>\n",
       "      <td>1</td>\n",
       "      <td>9</td>\n",
       "      <td>39</td>\n",
       "      <td>64</td>\n",
       "      <td>120</td>\n",
       "      <td>9</td>\n",
       "      <td>27</td>\n",
       "      <td>121</td>\n",
       "      <td>89</td>\n",
       "      <td>4</td>\n",
       "      <td>9</td>\n",
       "    </tr>\n",
       "    <tr>\n",
       "      <th>家居</th>\n",
       "      <td>8</td>\n",
       "      <td>87</td>\n",
       "      <td>7944</td>\n",
       "      <td>0</td>\n",
       "      <td>18</td>\n",
       "      <td>22</td>\n",
       "      <td>45</td>\n",
       "      <td>36</td>\n",
       "      <td>1</td>\n",
       "      <td>13</td>\n",
       "      <td>22</td>\n",
       "      <td>79</td>\n",
       "      <td>27</td>\n",
       "      <td>23</td>\n",
       "    </tr>\n",
       "    <tr>\n",
       "      <th>彩票</th>\n",
       "      <td>19</td>\n",
       "      <td>4</td>\n",
       "      <td>1</td>\n",
       "      <td>1866</td>\n",
       "      <td>0</td>\n",
       "      <td>0</td>\n",
       "      <td>0</td>\n",
       "      <td>3</td>\n",
       "      <td>1</td>\n",
       "      <td>2</td>\n",
       "      <td>36</td>\n",
       "      <td>4</td>\n",
       "      <td>0</td>\n",
       "      <td>1</td>\n",
       "    </tr>\n",
       "    <tr>\n",
       "      <th>房产</th>\n",
       "      <td>0</td>\n",
       "      <td>16</td>\n",
       "      <td>59</td>\n",
       "      <td>2</td>\n",
       "      <td>4624</td>\n",
       "      <td>19</td>\n",
       "      <td>6</td>\n",
       "      <td>61</td>\n",
       "      <td>1</td>\n",
       "      <td>3</td>\n",
       "      <td>47</td>\n",
       "      <td>26</td>\n",
       "      <td>81</td>\n",
       "      <td>33</td>\n",
       "    </tr>\n",
       "    <tr>\n",
       "      <th>教育</th>\n",
       "      <td>3</td>\n",
       "      <td>51</td>\n",
       "      <td>19</td>\n",
       "      <td>4</td>\n",
       "      <td>1</td>\n",
       "      <td>9908</td>\n",
       "      <td>11</td>\n",
       "      <td>145</td>\n",
       "      <td>1</td>\n",
       "      <td>12</td>\n",
       "      <td>250</td>\n",
       "      <td>44</td>\n",
       "      <td>10</td>\n",
       "      <td>15</td>\n",
       "    </tr>\n",
       "    <tr>\n",
       "      <th>时尚</th>\n",
       "      <td>0</td>\n",
       "      <td>43</td>\n",
       "      <td>35</td>\n",
       "      <td>1</td>\n",
       "      <td>2</td>\n",
       "      <td>3</td>\n",
       "      <td>3174</td>\n",
       "      <td>4</td>\n",
       "      <td>1</td>\n",
       "      <td>6</td>\n",
       "      <td>6</td>\n",
       "      <td>9</td>\n",
       "      <td>0</td>\n",
       "      <td>2</td>\n",
       "    </tr>\n",
       "    <tr>\n",
       "      <th>时政</th>\n",
       "      <td>33</td>\n",
       "      <td>57</td>\n",
       "      <td>15</td>\n",
       "      <td>2</td>\n",
       "      <td>19</td>\n",
       "      <td>113</td>\n",
       "      <td>23</td>\n",
       "      <td>14986</td>\n",
       "      <td>0</td>\n",
       "      <td>10</td>\n",
       "      <td>213</td>\n",
       "      <td>146</td>\n",
       "      <td>79</td>\n",
       "      <td>51</td>\n",
       "    </tr>\n",
       "    <tr>\n",
       "      <th>星座</th>\n",
       "      <td>0</td>\n",
       "      <td>1</td>\n",
       "      <td>1</td>\n",
       "      <td>0</td>\n",
       "      <td>0</td>\n",
       "      <td>2</td>\n",
       "      <td>3</td>\n",
       "      <td>1</td>\n",
       "      <td>898</td>\n",
       "      <td>0</td>\n",
       "      <td>2</td>\n",
       "      <td>1</td>\n",
       "      <td>0</td>\n",
       "      <td>0</td>\n",
       "    </tr>\n",
       "    <tr>\n",
       "      <th>游戏</th>\n",
       "      <td>3</td>\n",
       "      <td>12</td>\n",
       "      <td>6</td>\n",
       "      <td>0</td>\n",
       "      <td>0</td>\n",
       "      <td>6</td>\n",
       "      <td>7</td>\n",
       "      <td>5</td>\n",
       "      <td>0</td>\n",
       "      <td>5821</td>\n",
       "      <td>12</td>\n",
       "      <td>172</td>\n",
       "      <td>4</td>\n",
       "      <td>1</td>\n",
       "    </tr>\n",
       "    <tr>\n",
       "      <th>社会</th>\n",
       "      <td>13</td>\n",
       "      <td>203</td>\n",
       "      <td>37</td>\n",
       "      <td>36</td>\n",
       "      <td>43</td>\n",
       "      <td>213</td>\n",
       "      <td>10</td>\n",
       "      <td>453</td>\n",
       "      <td>0</td>\n",
       "      <td>28</td>\n",
       "      <td>11412</td>\n",
       "      <td>187</td>\n",
       "      <td>9</td>\n",
       "      <td>63</td>\n",
       "    </tr>\n",
       "    <tr>\n",
       "      <th>科技</th>\n",
       "      <td>26</td>\n",
       "      <td>298</td>\n",
       "      <td>214</td>\n",
       "      <td>17</td>\n",
       "      <td>20</td>\n",
       "      <td>141</td>\n",
       "      <td>37</td>\n",
       "      <td>631</td>\n",
       "      <td>0</td>\n",
       "      <td>704</td>\n",
       "      <td>674</td>\n",
       "      <td>36981</td>\n",
       "      <td>476</td>\n",
       "      <td>160</td>\n",
       "    </tr>\n",
       "    <tr>\n",
       "      <th>股票</th>\n",
       "      <td>8</td>\n",
       "      <td>33</td>\n",
       "      <td>86</td>\n",
       "      <td>3</td>\n",
       "      <td>95</td>\n",
       "      <td>23</td>\n",
       "      <td>6</td>\n",
       "      <td>655</td>\n",
       "      <td>0</td>\n",
       "      <td>39</td>\n",
       "      <td>33</td>\n",
       "      <td>448</td>\n",
       "      <td>36202</td>\n",
       "      <td>1226</td>\n",
       "    </tr>\n",
       "    <tr>\n",
       "      <th>财经</th>\n",
       "      <td>4</td>\n",
       "      <td>26</td>\n",
       "      <td>27</td>\n",
       "      <td>4</td>\n",
       "      <td>29</td>\n",
       "      <td>13</td>\n",
       "      <td>3</td>\n",
       "      <td>81</td>\n",
       "      <td>0</td>\n",
       "      <td>2</td>\n",
       "      <td>79</td>\n",
       "      <td>72</td>\n",
       "      <td>421</td>\n",
       "      <td>8510</td>\n",
       "    </tr>\n",
       "  </tbody>\n",
       "</table>\n",
       "</div>"
      ],
      "text/plain": [
       "       体育     娱乐    家居    彩票    房产    教育    时尚     时政   星座    游戏     社会  \\\n",
       "体育  32100    313    32   135     2    39    12    162    0    50     76   \n",
       "娱乐     34  22529    57     1     9    39    64    120    9    27    121   \n",
       "家居      8     87  7944     0    18    22    45     36    1    13     22   \n",
       "彩票     19      4     1  1866     0     0     0      3    1     2     36   \n",
       "房产      0     16    59     2  4624    19     6     61    1     3     47   \n",
       "教育      3     51    19     4     1  9908    11    145    1    12    250   \n",
       "时尚      0     43    35     1     2     3  3174      4    1     6      6   \n",
       "时政     33     57    15     2    19   113    23  14986    0    10    213   \n",
       "星座      0      1     1     0     0     2     3      1  898     0      2   \n",
       "游戏      3     12     6     0     0     6     7      5    0  5821     12   \n",
       "社会     13    203    37    36    43   213    10    453    0    28  11412   \n",
       "科技     26    298   214    17    20   141    37    631    0   704    674   \n",
       "股票      8     33    86     3    95    23     6    655    0    39     33   \n",
       "财经      4     26    27     4    29    13     3     81    0     2     79   \n",
       "\n",
       "       科技     股票    财经  \n",
       "体育     52      9     6  \n",
       "娱乐     89      4     9  \n",
       "家居     79     27    23  \n",
       "彩票      4      0     1  \n",
       "房产     26     81    33  \n",
       "教育     44     10    15  \n",
       "时尚      9      0     2  \n",
       "时政    146     79    51  \n",
       "星座      1      0     0  \n",
       "游戏    172      4     1  \n",
       "社会    187      9    63  \n",
       "科技  36981    476   160  \n",
       "股票    448  36202  1226  \n",
       "财经     72    421  8510  "
      ]
     },
     "execution_count": 21,
     "metadata": {},
     "output_type": "execute_result"
    }
   ],
   "source": [
    "from sklearn.metrics import confusion_matrix\n",
    "\n",
    "def predict_test():\n",
    "    startTime = time.time()\n",
    "    test_sample_quantity = len(test_index_1d_array)\n",
    "    batch_size  = 100\n",
    "    predict_Y_list = []\n",
    "    for i in range(0, test_sample_quantity, batch_size):\n",
    "        part_index_1d_array = test_index_1d_array[i: i + batch_size]\n",
    "        part_content_list = [content_list[k] for k in part_index_1d_array]\n",
    "        batch_X = get_X(part_content_list)\n",
    "        predict_Y = session.run(data_7, {X_holder:batch_X})\n",
    "        predict_Y_list.extend(predict_Y)\n",
    "        usedTime = time.time() - startTime\n",
    "        print_string = '%d/ %d 花费时间:%.2f秒' %(i, test_sample_quantity, usedTime)\n",
    "        print_flush(print_string)\n",
    "    print_string = '%d/ %d 花费时间:%.2f秒' %(test_sample_quantity, test_sample_quantity, usedTime)\n",
    "    print_flush(print_string)    \n",
    "    Y = np.array(predict_Y_list)   \n",
    "    y = np.argmax(Y, axis=1)\n",
    "    predict_label_list = labelEncoder.inverse_transform(y)\n",
    "    return predict_label_list\n",
    "\n",
    "\n",
    "test_label_list = [label_list[k] for k in test_index_1d_array]\n",
    "predict_label_list = predict_test()\n",
    "pd.DataFrame(confusion_matrix(test_label_list, predict_label_list), \n",
    "             columns=labelEncoder.classes_,\n",
    "             index=labelEncoder.classes_ )"
   ]
  },
  {
   "cell_type": "markdown",
   "metadata": {},
   "source": [
    "## 10.报告表"
   ]
  },
  {
   "cell_type": "code",
   "execution_count": 22,
   "metadata": {},
   "outputs": [
    {
     "data": {
      "text/html": [
       "<div>\n",
       "<style scoped>\n",
       "    .dataframe tbody tr th:only-of-type {\n",
       "        vertical-align: middle;\n",
       "    }\n",
       "\n",
       "    .dataframe tbody tr th {\n",
       "        vertical-align: top;\n",
       "    }\n",
       "\n",
       "    .dataframe thead th {\n",
       "        text-align: right;\n",
       "    }\n",
       "</style>\n",
       "<table border=\"1\" class=\"dataframe\">\n",
       "  <thead>\n",
       "    <tr style=\"text-align: right;\">\n",
       "      <th></th>\n",
       "      <th>Label</th>\n",
       "      <th>Precision</th>\n",
       "      <th>Recall</th>\n",
       "      <th>F1</th>\n",
       "      <th>Support</th>\n",
       "    </tr>\n",
       "  </thead>\n",
       "  <tbody>\n",
       "    <tr>\n",
       "      <th>0</th>\n",
       "      <td>体育</td>\n",
       "      <td>0.995318</td>\n",
       "      <td>0.973081</td>\n",
       "      <td>0.984074</td>\n",
       "      <td>32988</td>\n",
       "    </tr>\n",
       "    <tr>\n",
       "      <th>1</th>\n",
       "      <td>娱乐</td>\n",
       "      <td>0.951675</td>\n",
       "      <td>0.974775</td>\n",
       "      <td>0.963086</td>\n",
       "      <td>23112</td>\n",
       "    </tr>\n",
       "    <tr>\n",
       "      <th>2</th>\n",
       "      <td>家居</td>\n",
       "      <td>0.930974</td>\n",
       "      <td>0.954234</td>\n",
       "      <td>0.942461</td>\n",
       "      <td>8325</td>\n",
       "    </tr>\n",
       "    <tr>\n",
       "      <th>3</th>\n",
       "      <td>彩票</td>\n",
       "      <td>0.901014</td>\n",
       "      <td>0.963345</td>\n",
       "      <td>0.931138</td>\n",
       "      <td>1937</td>\n",
       "    </tr>\n",
       "    <tr>\n",
       "      <th>4</th>\n",
       "      <td>房产</td>\n",
       "      <td>0.951049</td>\n",
       "      <td>0.928887</td>\n",
       "      <td>0.939837</td>\n",
       "      <td>4978</td>\n",
       "    </tr>\n",
       "    <tr>\n",
       "      <th>5</th>\n",
       "      <td>教育</td>\n",
       "      <td>0.939949</td>\n",
       "      <td>0.945961</td>\n",
       "      <td>0.942946</td>\n",
       "      <td>10474</td>\n",
       "    </tr>\n",
       "    <tr>\n",
       "      <th>6</th>\n",
       "      <td>时尚</td>\n",
       "      <td>0.933255</td>\n",
       "      <td>0.965916</td>\n",
       "      <td>0.949305</td>\n",
       "      <td>3286</td>\n",
       "    </tr>\n",
       "    <tr>\n",
       "      <th>7</th>\n",
       "      <td>时政</td>\n",
       "      <td>0.864095</td>\n",
       "      <td>0.951673</td>\n",
       "      <td>0.905772</td>\n",
       "      <td>15747</td>\n",
       "    </tr>\n",
       "    <tr>\n",
       "      <th>8</th>\n",
       "      <td>星座</td>\n",
       "      <td>0.984649</td>\n",
       "      <td>0.987899</td>\n",
       "      <td>0.986271</td>\n",
       "      <td>909</td>\n",
       "    </tr>\n",
       "    <tr>\n",
       "      <th>9</th>\n",
       "      <td>游戏</td>\n",
       "      <td>0.866607</td>\n",
       "      <td>0.962308</td>\n",
       "      <td>0.911954</td>\n",
       "      <td>6049</td>\n",
       "    </tr>\n",
       "    <tr>\n",
       "      <th>10</th>\n",
       "      <td>社会</td>\n",
       "      <td>0.878996</td>\n",
       "      <td>0.898088</td>\n",
       "      <td>0.888439</td>\n",
       "      <td>12707</td>\n",
       "    </tr>\n",
       "    <tr>\n",
       "      <th>11</th>\n",
       "      <td>科技</td>\n",
       "      <td>0.965309</td>\n",
       "      <td>0.915847</td>\n",
       "      <td>0.939928</td>\n",
       "      <td>40379</td>\n",
       "    </tr>\n",
       "    <tr>\n",
       "      <th>12</th>\n",
       "      <td>股票</td>\n",
       "      <td>0.969991</td>\n",
       "      <td>0.931673</td>\n",
       "      <td>0.950446</td>\n",
       "      <td>38857</td>\n",
       "    </tr>\n",
       "    <tr>\n",
       "      <th>13</th>\n",
       "      <td>财经</td>\n",
       "      <td>0.842574</td>\n",
       "      <td>0.917916</td>\n",
       "      <td>0.878633</td>\n",
       "      <td>9271</td>\n",
       "    </tr>\n",
       "    <tr>\n",
       "      <th>999</th>\n",
       "      <td>总体</td>\n",
       "      <td>0.944242</td>\n",
       "      <td>0.942283</td>\n",
       "      <td>0.942697</td>\n",
       "      <td>209019</td>\n",
       "    </tr>\n",
       "  </tbody>\n",
       "</table>\n",
       "</div>"
      ],
      "text/plain": [
       "    Label  Precision    Recall        F1  Support\n",
       "0      体育   0.995318  0.973081  0.984074    32988\n",
       "1      娱乐   0.951675  0.974775  0.963086    23112\n",
       "2      家居   0.930974  0.954234  0.942461     8325\n",
       "3      彩票   0.901014  0.963345  0.931138     1937\n",
       "4      房产   0.951049  0.928887  0.939837     4978\n",
       "5      教育   0.939949  0.945961  0.942946    10474\n",
       "6      时尚   0.933255  0.965916  0.949305     3286\n",
       "7      时政   0.864095  0.951673  0.905772    15747\n",
       "8      星座   0.984649  0.987899  0.986271      909\n",
       "9      游戏   0.866607  0.962308  0.911954     6049\n",
       "10     社会   0.878996  0.898088  0.888439    12707\n",
       "11     科技   0.965309  0.915847  0.939928    40379\n",
       "12     股票   0.969991  0.931673  0.950446    38857\n",
       "13     财经   0.842574  0.917916  0.878633     9271\n",
       "999    总体   0.944242  0.942283  0.942697   209019"
      ]
     },
     "execution_count": 22,
     "metadata": {},
     "output_type": "execute_result"
    }
   ],
   "source": [
    "import numpy as np\n",
    "from sklearn.metrics import precision_recall_fscore_support\n",
    "\n",
    "def eval_model(y_true, y_pred, labels):\n",
    "    # 计算每个分类的Precision, Recall, f1, support\n",
    "    p, r, f1, s = precision_recall_fscore_support(y_true, y_pred)\n",
    "    # 计算总体的平均Precision, Recall, f1, support\n",
    "    tot_p = np.average(p, weights=s)\n",
    "    tot_r = np.average(r, weights=s)\n",
    "    tot_f1 = np.average(f1, weights=s)\n",
    "    tot_s = np.sum(s)\n",
    "    res1 = pd.DataFrame({\n",
    "        u'Label': labels,\n",
    "        u'Precision': p,\n",
    "        u'Recall': r,\n",
    "        u'F1': f1,\n",
    "        u'Support': s\n",
    "    })\n",
    "    res2 = pd.DataFrame({\n",
    "        u'Label': ['总体'],\n",
    "        u'Precision': [tot_p],\n",
    "        u'Recall': [tot_r],\n",
    "        u'F1': [tot_f1],\n",
    "        u'Support': [tot_s]\n",
    "    })\n",
    "    res2.index = [999]\n",
    "    res = pd.concat([res1, res2])\n",
    "    return res[['Label', 'Precision', 'Recall', 'F1', 'Support']]\n",
    "\n",
    "eval_model(test_label_list, predict_label_list, labelEncoder.classes_)"
   ]
  },
  {
   "cell_type": "code",
   "execution_count": 23,
   "metadata": {},
   "outputs": [
    {
     "ename": "SyntaxError",
     "evalue": "invalid syntax (<ipython-input-23-664e4f2656d0>, line 1)",
     "output_type": "error",
     "traceback": [
      "\u001b[1;36m  File \u001b[1;32m\"<ipython-input-23-664e4f2656d0>\"\u001b[1;36m, line \u001b[1;32m1\u001b[0m\n\u001b[1;33m    话题分类  新闻分类\u001b[0m\n\u001b[1;37m             ^\u001b[0m\n\u001b[1;31mSyntaxError\u001b[0m\u001b[1;31m:\u001b[0m invalid syntax\n"
     ]
    }
   ],
   "source": [
    "话题预测  新闻分类"
   ]
  }
 ],
 "metadata": {
  "kernelspec": {
   "display_name": "Python 3",
   "language": "python",
   "name": "python3"
  },
  "language_info": {
   "codemirror_mode": {
    "name": "ipython",
    "version": 3
   },
   "file_extension": ".py",
   "mimetype": "text/x-python",
   "name": "python",
   "nbconvert_exporter": "python",
   "pygments_lexer": "ipython3",
   "version": "3.6.9"
  }
 },
 "nbformat": 4,
 "nbformat_minor": 2
}
